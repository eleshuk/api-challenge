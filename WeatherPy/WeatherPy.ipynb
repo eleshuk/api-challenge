{
 "cells": [
  {
   "cell_type": "markdown",
   "metadata": {},
   "source": [
    "# WeatherPy\n",
    "----\n",
    "\n",
    "#### Note\n",
    "* Instructions have been included for each segment. You do not have to follow them exactly, but they are included to help you think through the steps."
   ]
  },
  {
   "cell_type": "code",
   "execution_count": 100,
   "metadata": {
    "scrolled": true
   },
   "outputs": [],
   "source": [
    "# Dependencies and Setup\n",
    "import matplotlib.pyplot as plt\n",
    "import pandas as pd\n",
    "import numpy as np\n",
    "import requests\n",
    "from datetime import datetime\n",
    "from scipy.stats import linregress\n",
    "import scipy.stats as st\n",
    "from pprint import pprint\n",
    "\n",
    "\n",
    "# Import API key\n",
    "from config import weather_api_key\n",
    "\n",
    "# Incorporated citipy to determine city based on latitude and longitude\n",
    "from citipy import citipy\n",
    "\n",
    "# Output File (CSV)\n",
    "output_data_file = \"output_data/cities.csv\"\n",
    "\n",
    "# Range of latitudes and longitudes\n",
    "lat_range = (-90, 90)\n",
    "lng_range = (-180, 180)"
   ]
  },
  {
   "cell_type": "markdown",
   "metadata": {},
   "source": [
    "## Generate Cities List"
   ]
  },
  {
   "cell_type": "code",
   "execution_count": 2,
   "metadata": {},
   "outputs": [
    {
     "data": {
      "text/plain": [
       "620"
      ]
     },
     "execution_count": 2,
     "metadata": {},
     "output_type": "execute_result"
    }
   ],
   "source": [
    "# List for holding lat_lngs and cities\n",
    "lat_lngs = []\n",
    "cities = []\n",
    "\n",
    "# Create a set of random lat and lng combinations\n",
    "lats = np.random.uniform(lat_range[0], lat_range[1], size=1500)\n",
    "lngs = np.random.uniform(lng_range[0], lng_range[1], size=1500)\n",
    "lat_lngs = zip(lats, lngs)\n",
    "\n",
    "# Identify nearest city for each lat, lng combination\n",
    "for lat_lng in lat_lngs:\n",
    "    city = citipy.nearest_city(lat_lng[0], lat_lng[1]).city_name\n",
    "    \n",
    "    # If the city is unique, then add it to a our cities list\n",
    "    if city not in cities:\n",
    "        cities.append(city)\n",
    "\n",
    "# Print the city count to confirm sufficient count\n",
    "len(cities)"
   ]
  },
  {
   "cell_type": "markdown",
   "metadata": {},
   "source": [
    "### Perform API Calls\n",
    "* Perform a weather check on each city using a series of successive API calls.\n",
    "* Include a print log of each city as it'sbeing processed (with the city number and city name).\n"
   ]
  },
  {
   "cell_type": "code",
   "execution_count": 23,
   "metadata": {},
   "outputs": [
    {
     "name": "stdout",
     "output_type": "stream",
     "text": [
      "Beginning Data Retrieval\n",
      "----------------------------------------------------------------\n",
      "Processing Record 1 | rikitea\n",
      "Processing Record 2 | vaini\n",
      "Processing Record 3 | northam\n",
      "Processing Record 4 | luzhou\n",
      "Processing Record 5 | panguna\n",
      "Processing Record 6 | punta arenas\n",
      "Processing Record 7 | atuona\n",
      "Processing Record 8 | bredasdorp\n",
      "Processing Record 9 | mataura\n",
      "Processing Record 10 | ushuaia\n",
      "Processing Record 11 | jamestown\n",
      "Processing Record 12 | busselton\n",
      "Processing Record 13 | sao filipe\n",
      "Processing Record 14 | ginir\n",
      "Processing Record 15 | nizhneyansk\n",
      "City not found\n",
      "Processing Record 16 | vardo\n",
      "Processing Record 17 | nouadhibou\n",
      "Processing Record 18 | plouzane\n",
      "Processing Record 19 | dunedin\n",
      "Processing Record 20 | bereda\n",
      "Processing Record 21 | hithadhoo\n",
      "Processing Record 22 | longyearbyen\n",
      "Processing Record 23 | gamboma\n",
      "Processing Record 24 | albany\n",
      "Processing Record 25 | marcona\n",
      "City not found\n",
      "Processing Record 26 | adrar\n",
      "Processing Record 27 | provideniya\n",
      "Processing Record 28 | khatanga\n",
      "Processing Record 29 | ashland\n",
      "Processing Record 30 | tumannyy\n",
      "City not found\n",
      "Processing Record 31 | ranot\n",
      "Processing Record 32 | kiunga\n",
      "Processing Record 33 | illoqqortoormiut\n",
      "City not found\n",
      "Processing Record 34 | athlone\n",
      "Processing Record 35 | bethel\n",
      "Processing Record 36 | vila velha\n",
      "Processing Record 37 | bac lieu\n",
      "Processing Record 38 | mahebourg\n",
      "Processing Record 39 | bud\n",
      "Processing Record 40 | clyde river\n",
      "Processing Record 41 | thompson\n",
      "Processing Record 42 | pilikwe\n",
      "Processing Record 43 | chokurdakh\n",
      "Processing Record 44 | taolanaro\n",
      "City not found\n",
      "Processing Record 45 | pecos\n",
      "Processing Record 46 | mahanoro\n",
      "Processing Record 47 | barentsburg\n",
      "City not found\n",
      "Processing Record 48 | geraldton\n",
      "Processing Record 49 | lebu\n",
      "Processing Record 50 | carnarvon\n",
      "Processing Record 51 | kununurra\n",
      "Processing Record 52 | saldanha\n",
      "Processing Record 53 | the valley\n",
      "Processing Record 54 | port-gentil\n",
      "Processing Record 55 | rastolita\n",
      "Processing Record 56 | kenai\n",
      "Processing Record 57 | cape town\n",
      "Processing Record 58 | panzhihua\n",
      "Processing Record 59 | saint-philippe\n",
      "Processing Record 60 | vanimo\n",
      "Processing Record 61 | changji\n",
      "Processing Record 62 | saint anthony\n",
      "Processing Record 63 | lexington\n",
      "Processing Record 64 | urengoy\n",
      "Processing Record 65 | zhigansk\n",
      "Processing Record 66 | tansen\n",
      "Processing Record 67 | necochea\n",
      "Processing Record 68 | shimoda\n",
      "Processing Record 69 | gogrial\n",
      "Processing Record 70 | ribeira grande\n",
      "Processing Record 71 | pangnirtung\n",
      "Processing Record 72 | caravelas\n",
      "Processing Record 73 | yellowknife\n",
      "Processing Record 74 | izazi\n",
      "Processing Record 75 | katsuura\n",
      "Processing Record 76 | port hardy\n",
      "Processing Record 77 | nikolskoye\n",
      "Processing Record 78 | emerald\n",
      "Processing Record 79 | antofagasta\n",
      "Processing Record 80 | lakes entrance\n",
      "Processing Record 81 | qaanaaq\n",
      "Processing Record 82 | leningradskiy\n",
      "Processing Record 83 | luderitz\n",
      "Processing Record 84 | ambulu\n",
      "Processing Record 85 | wanning\n",
      "Processing Record 86 | tautira\n",
      "Processing Record 87 | harqalah\n",
      "Processing Record 88 | hermanus\n",
      "Processing Record 89 | saskylakh\n",
      "Processing Record 90 | dikson\n",
      "Processing Record 91 | lodja\n",
      "Processing Record 92 | loralai\n",
      "Processing Record 93 | komsomolskiy\n",
      "Processing Record 94 | santa maria\n",
      "Processing Record 95 | ilulissat\n",
      "Processing Record 96 | kodiak\n",
      "Processing Record 97 | hilo\n",
      "Processing Record 98 | saint-francois\n",
      "Processing Record 99 | sorvag\n",
      "City not found\n",
      "Processing Record 100 | barrow\n",
      "Processing Record 101 | mar del plata\n",
      "Processing Record 102 | thaba nchu\n",
      "Processing Record 103 | cidreira\n",
      "Processing Record 104 | les cayes\n",
      "Processing Record 105 | kutum\n",
      "Processing Record 106 | port alfred\n",
      "Processing Record 107 | juneau\n",
      "Processing Record 108 | abadiania\n",
      "Processing Record 109 | codrington\n",
      "Processing Record 110 | cagayan de tawi-tawi\n",
      "City not found\n",
      "Processing Record 111 | tiksi\n",
      "Processing Record 112 | bluff\n",
      "Processing Record 113 | sistranda\n",
      "Processing Record 114 | nueva gerona\n",
      "Processing Record 115 | estrela\n",
      "Processing Record 116 | half moon bay\n",
      "Processing Record 117 | ikalamavony\n",
      "Processing Record 118 | cayenne\n",
      "Processing Record 119 | kapaa\n",
      "Processing Record 120 | salalah\n",
      "Processing Record 121 | pisco\n",
      "Processing Record 122 | chuy\n",
      "Processing Record 123 | puerto ayora\n",
      "Processing Record 124 | samusu\n",
      "City not found\n",
      "Processing Record 125 | mehamn\n",
      "Processing Record 126 | tasiilaq\n",
      "Processing Record 127 | belaya gora\n",
      "Processing Record 128 | port elizabeth\n",
      "Processing Record 129 | yakeshi\n",
      "Processing Record 130 | sitka\n",
      "Processing Record 131 | belushya guba\n",
      "City not found\n",
      "Processing Record 132 | chumikan\n",
      "Processing Record 133 | cherskiy\n",
      "Processing Record 134 | norman wells\n",
      "Processing Record 135 | lolua\n",
      "City not found\n",
      "Processing Record 136 | taltal\n",
      "Processing Record 137 | olafsvik\n",
      "Processing Record 138 | torbay\n",
      "Processing Record 139 | arraial do cabo\n",
      "Processing Record 140 | qurbah\n",
      "City not found\n",
      "Processing Record 141 | grand gaube\n",
      "Processing Record 142 | plainfield\n",
      "Processing Record 143 | tomatlan\n",
      "Processing Record 144 | faanui\n",
      "Processing Record 145 | vieira de leiria\n",
      "Processing Record 146 | butaritari\n",
      "Processing Record 147 | tuktoyaktuk\n",
      "Processing Record 148 | ouesso\n",
      "Processing Record 149 | mayskiy\n",
      "Processing Record 150 | constitucion\n",
      "Processing Record 151 | kavieng\n",
      "Processing Record 152 | sabya\n",
      "Processing Record 153 | baruun-urt\n",
      "Processing Record 154 | peniche\n",
      "Processing Record 155 | capreol\n",
      "Processing Record 156 | hobart\n",
      "Processing Record 157 | ancud\n",
      "Processing Record 158 | ejido\n",
      "Processing Record 159 | lodwar\n",
      "Processing Record 160 | kruisfontein\n",
      "Processing Record 161 | muncar\n",
      "Processing Record 162 | nanortalik\n",
      "Processing Record 163 | melo\n",
      "Processing Record 164 | san juan del sur\n",
      "Processing Record 165 | bandarbeyla\n",
      "Processing Record 166 | lerwick\n",
      "Processing Record 167 | chake chake\n",
      "Processing Record 168 | soyo\n",
      "Processing Record 169 | mount hagen\n",
      "Processing Record 170 | qandala\n",
      "Processing Record 171 | north bend\n",
      "Processing Record 172 | araouane\n",
      "Processing Record 173 | haines junction\n",
      "Processing Record 174 | asau\n",
      "Processing Record 175 | severo-kurilsk\n",
      "Processing Record 176 | nagato\n",
      "Processing Record 177 | saiha\n",
      "Processing Record 178 | boende\n",
      "Processing Record 179 | xinqing\n",
      "Processing Record 180 | monrovia\n",
      "Processing Record 181 | hasaki\n",
      "Processing Record 182 | fria\n",
      "Processing Record 183 | dawlatabad\n",
      "Processing Record 184 | khani\n",
      "Processing Record 185 | narsaq\n",
      "Processing Record 186 | new norfolk\n",
      "Processing Record 187 | bengkulu\n",
      "Processing Record 188 | bodden town\n",
      "Processing Record 189 | ballybofey\n",
      "Processing Record 190 | kurchum\n",
      "Processing Record 191 | lavrentiya\n",
      "Processing Record 192 | pasni\n",
      "Processing Record 193 | bambanglipuro\n",
      "Processing Record 194 | bilma\n",
      "Processing Record 195 | doctor pedro p. pena\n",
      "City not found\n",
      "Processing Record 196 | avarua\n",
      "Processing Record 197 | bimbo\n",
      "Processing Record 198 | saint george\n",
      "Processing Record 199 | venezuela\n",
      "Processing Record 200 | bonavista\n",
      "Processing Record 201 | morant bay\n",
      "Processing Record 202 | iracoubo\n",
      "Processing Record 203 | takoradi\n",
      "Processing Record 204 | sorbhog\n",
      "Processing Record 205 | nelson bay\n",
      "Processing Record 206 | grindavik\n",
      "Processing Record 207 | iqaluit\n",
      "Processing Record 208 | lodeynoye pole\n",
      "Processing Record 209 | hamilton\n",
      "Processing Record 210 | palabuhanratu\n",
      "City not found\n",
      "Processing Record 211 | annau\n",
      "Processing Record 212 | harper\n",
      "Processing Record 213 | pauini\n",
      "Processing Record 214 | los llanos de aridane\n",
      "Processing Record 215 | ennepetal\n",
      "Processing Record 216 | omboue\n",
      "Processing Record 217 | artigas\n",
      "Processing Record 218 | ostrovnoy\n",
      "Processing Record 219 | ijaki\n",
      "City not found\n",
      "Processing Record 220 | luwuk\n",
      "Processing Record 221 | ouargaye\n",
      "Processing Record 222 | toora-khem\n",
      "Processing Record 223 | esperance\n",
      "Processing Record 224 | lompoc\n",
      "Processing Record 225 | bulawayo\n",
      "Processing Record 226 | attawapiskat\n",
      "City not found\n",
      "Processing Record 227 | soe\n",
      "Processing Record 228 | kathmandu\n",
      "Processing Record 229 | fengcheng\n",
      "Processing Record 230 | jeremie\n",
      "Processing Record 231 | amderma\n",
      "City not found\n",
      "Processing Record 232 | srednekolymsk\n",
      "Processing Record 233 | weymouth\n",
      "Processing Record 234 | gorom-gorom\n",
      "Processing Record 235 | krishnagiri\n",
      "Processing Record 236 | kaitangata\n",
      "Processing Record 237 | airai\n",
      "Processing Record 238 | terekli-mekteb\n"
     ]
    },
    {
     "name": "stdout",
     "output_type": "stream",
     "text": [
      "Processing Record 239 | rundu\n",
      "Processing Record 240 | nizhnevartovsk\n",
      "Processing Record 241 | aklavik\n",
      "Processing Record 242 | kilrush\n",
      "Processing Record 243 | saint-joseph\n",
      "Processing Record 244 | budogoshch\n",
      "Processing Record 245 | manono\n",
      "Processing Record 246 | tidore\n",
      "City not found\n",
      "Processing Record 247 | klaksvik\n",
      "Processing Record 248 | shatoy\n",
      "Processing Record 249 | xuddur\n",
      "Processing Record 250 | faya\n",
      "Processing Record 251 | agadez\n",
      "Processing Record 252 | arlit\n",
      "Processing Record 253 | bow island\n",
      "Processing Record 254 | vestmanna\n",
      "Processing Record 255 | merritt\n",
      "Processing Record 256 | ponta do sol\n",
      "Processing Record 257 | klyuchi\n",
      "Processing Record 258 | pevek\n",
      "Processing Record 259 | sibolga\n",
      "Processing Record 260 | alice springs\n",
      "Processing Record 261 | victoria\n",
      "Processing Record 262 | carora\n",
      "Processing Record 263 | kyaukse\n",
      "Processing Record 264 | castro\n",
      "Processing Record 265 | shelopugino\n",
      "Processing Record 266 | upernavik\n",
      "Processing Record 267 | coihaique\n",
      "Processing Record 268 | yulara\n",
      "Processing Record 269 | san luis\n",
      "Processing Record 270 | saint-paul\n",
      "Processing Record 271 | porto de moz\n",
      "Processing Record 272 | warrnambool\n",
      "Processing Record 273 | talcahuano\n",
      "Processing Record 274 | at-bashi\n",
      "Processing Record 275 | muros\n",
      "Processing Record 276 | sentyabrskiy\n",
      "City not found\n",
      "Processing Record 277 | east london\n",
      "Processing Record 278 | mozarlandia\n",
      "Processing Record 279 | walvis bay\n",
      "Processing Record 280 | kimparana\n",
      "Processing Record 281 | chagda\n",
      "City not found\n",
      "Processing Record 282 | sioux lookout\n",
      "Processing Record 283 | balkhash\n",
      "Processing Record 284 | san patricio\n",
      "Processing Record 285 | taoudenni\n",
      "Processing Record 286 | javanrud\n",
      "Processing Record 287 | solnechnyy\n",
      "Processing Record 288 | nome\n",
      "Processing Record 289 | brae\n",
      "Processing Record 290 | mount isa\n",
      "Processing Record 291 | olinda\n",
      "Processing Record 292 | kishi\n",
      "Processing Record 293 | hualmay\n",
      "Processing Record 294 | bull savanna\n",
      "Processing Record 295 | champerico\n",
      "Processing Record 296 | paraguacu paulista\n",
      "Processing Record 297 | tsihombe\n",
      "City not found\n",
      "Processing Record 298 | saleaula\n",
      "City not found\n",
      "Processing Record 299 | kozachi laheri\n",
      "Processing Record 300 | glendive\n",
      "Processing Record 301 | kaka\n",
      "Processing Record 302 | ko samui\n",
      "Processing Record 303 | zeya\n",
      "Processing Record 304 | atar\n",
      "Processing Record 305 | tessalit\n",
      "Processing Record 306 | tuatapere\n",
      "Processing Record 307 | chuari khas\n",
      "Processing Record 308 | mayo\n",
      "Processing Record 309 | basco\n",
      "Processing Record 310 | biskamzha\n",
      "Processing Record 311 | libenge\n",
      "Processing Record 312 | vilyuysk\n",
      "Processing Record 313 | chopinzinho\n",
      "Processing Record 314 | lagoa\n",
      "Processing Record 315 | broome\n",
      "Processing Record 316 | ngunguru\n",
      "Processing Record 317 | esqueda\n",
      "Processing Record 318 | chumphon\n",
      "Processing Record 319 | bartlett\n",
      "Processing Record 320 | grenfell\n",
      "Processing Record 321 | guaraniacu\n",
      "Processing Record 322 | yanam\n",
      "Processing Record 323 | mezen\n",
      "Processing Record 324 | ust-nera\n",
      "Processing Record 325 | lemesos\n",
      "City not found\n",
      "Processing Record 326 | nakamura\n",
      "Processing Record 327 | fort nelson\n",
      "Processing Record 328 | touros\n",
      "Processing Record 329 | guaruja\n",
      "Processing Record 330 | san cristobal\n",
      "Processing Record 331 | yar-sale\n",
      "Processing Record 332 | semirom\n",
      "Processing Record 333 | rivera\n",
      "Processing Record 334 | mossendjo\n",
      "Processing Record 335 | umarkot\n",
      "Processing Record 336 | nova granada\n",
      "Processing Record 337 | mys shmidta\n",
      "City not found\n",
      "Processing Record 338 | fairbanks\n",
      "Processing Record 339 | kahului\n",
      "Processing Record 340 | cabo san lucas\n",
      "Processing Record 341 | quatre cocos\n",
      "Processing Record 342 | eyrarbakki\n",
      "Processing Record 343 | kimberley\n",
      "Processing Record 344 | kovdor\n",
      "Processing Record 345 | yamasaki\n",
      "Processing Record 346 | praia da vitoria\n",
      "Processing Record 347 | coruripe\n",
      "Processing Record 348 | dubti\n",
      "Processing Record 349 | shigony\n",
      "Processing Record 350 | marfino\n",
      "Processing Record 351 | sur\n",
      "Processing Record 352 | meulaboh\n",
      "Processing Record 353 | bambous virieux\n",
      "Processing Record 354 | uspenka\n",
      "Processing Record 355 | santa vitoria do palmar\n",
      "Processing Record 356 | goderich\n",
      "Processing Record 357 | cadillac\n",
      "Processing Record 358 | carutapera\n",
      "Processing Record 359 | husavik\n",
      "Processing Record 360 | suntar\n",
      "Processing Record 361 | mareeba\n",
      "Processing Record 362 | trojes\n",
      "Processing Record 363 | alugan\n",
      "Processing Record 364 | uaua\n",
      "Processing Record 365 | svetlogorsk\n",
      "Processing Record 366 | cockburn town\n",
      "Processing Record 367 | georgetown\n",
      "Processing Record 368 | thongwa\n",
      "Processing Record 369 | timmins\n",
      "Processing Record 370 | fortuna\n",
      "Processing Record 371 | cervo\n",
      "Processing Record 372 | dourados\n",
      "Processing Record 373 | monywa\n",
      "Processing Record 374 | sobolevo\n",
      "Processing Record 375 | kalmunai\n",
      "Processing Record 376 | katherine\n",
      "Processing Record 377 | najran\n",
      "Processing Record 378 | palmer\n",
      "Processing Record 379 | dryden\n",
      "Processing Record 380 | baykit\n",
      "Processing Record 381 | jaru\n",
      "Processing Record 382 | lata\n",
      "Processing Record 383 | praxedis guerrero\n",
      "Processing Record 384 | te anau\n",
      "Processing Record 385 | naze\n",
      "Processing Record 386 | atambua\n",
      "Processing Record 387 | iskateley\n",
      "Processing Record 388 | marsa matruh\n",
      "Processing Record 389 | esna\n",
      "Processing Record 390 | puquio\n",
      "Processing Record 391 | ahuimanu\n",
      "Processing Record 392 | palu\n",
      "Processing Record 393 | fort frances\n",
      "Processing Record 394 | bagotville\n",
      "Processing Record 395 | smoky lake\n",
      "Processing Record 396 | san juan\n",
      "Processing Record 397 | disna\n",
      "Processing Record 398 | matara\n",
      "Processing Record 399 | valley city\n",
      "Processing Record 400 | hervey bay\n",
      "Processing Record 401 | okhotsk\n",
      "Processing Record 402 | bassano\n",
      "Processing Record 403 | opuwo\n",
      "Processing Record 404 | ugoofaaru\n",
      "Processing Record 405 | ozgon\n",
      "City not found\n",
      "Processing Record 406 | roald\n",
      "Processing Record 407 | arman\n",
      "Processing Record 408 | patiya\n",
      "Processing Record 409 | vrangel\n",
      "Processing Record 410 | amursk\n",
      "Processing Record 411 | souillac\n",
      "Processing Record 412 | isangel\n",
      "Processing Record 413 | rungata\n",
      "City not found\n",
      "Processing Record 414 | jamame\n",
      "Processing Record 415 | thap khlo\n",
      "Processing Record 416 | vaitupu\n",
      "City not found\n",
      "Processing Record 417 | petropavlovsk-kamchatskiy\n",
      "Processing Record 418 | kawambwa\n",
      "Processing Record 419 | yumen\n",
      "Processing Record 420 | siguiri\n",
      "Processing Record 421 | santo domingo\n",
      "Processing Record 422 | tawkar\n",
      "City not found\n",
      "Processing Record 423 | guerrero negro\n",
      "Processing Record 424 | boffa\n",
      "Processing Record 425 | viedma\n",
      "Processing Record 426 | lushunkou\n",
      "City not found\n",
      "Processing Record 427 | mastic beach\n",
      "Processing Record 428 | mergui\n",
      "City not found\n",
      "Processing Record 429 | kazerun\n",
      "Processing Record 430 | reykjavik\n",
      "Processing Record 431 | winton\n",
      "Processing Record 432 | zaraza\n",
      "Processing Record 433 | aksu\n",
      "Processing Record 434 | tuggurt\n",
      "City not found\n",
      "Processing Record 435 | acapulco\n",
      "Processing Record 436 | taybad\n",
      "Processing Record 437 | belmonte\n",
      "Processing Record 438 | mendahara\n",
      "City not found\n",
      "Processing Record 439 | polis\n",
      "Processing Record 440 | meiganga\n",
      "Processing Record 441 | biloela\n",
      "Processing Record 442 | port blair\n",
      "Processing Record 443 | uvinza\n",
      "Processing Record 444 | reporoa\n",
      "Processing Record 445 | asopos\n",
      "Processing Record 446 | stornoway\n",
      "Processing Record 447 | igrim\n",
      "Processing Record 448 | sao joao da barra\n",
      "Processing Record 449 | kure\n",
      "Processing Record 450 | yarmouth\n",
      "Processing Record 451 | beidao\n",
      "Processing Record 452 | valdivia\n",
      "Processing Record 453 | mahon\n",
      "Processing Record 454 | guaymas\n",
      "Processing Record 455 | sidney\n",
      "Processing Record 456 | cururupu\n",
      "Processing Record 457 | gobabis\n",
      "Processing Record 458 | mogadishu\n",
      "Processing Record 459 | amga\n",
      "Processing Record 460 | ballina\n",
      "Processing Record 461 | buriti alegre\n",
      "Processing Record 462 | batemans bay\n",
      "Processing Record 463 | kalghatgi\n",
      "Processing Record 464 | bara\n",
      "Processing Record 465 | ocampo\n",
      "Processing Record 466 | poum\n",
      "Processing Record 467 | kushima\n",
      "Processing Record 468 | diffa\n",
      "Processing Record 469 | vanavara\n",
      "Processing Record 470 | villorba\n",
      "Processing Record 471 | sovetskiy\n",
      "Processing Record 472 | talnakh\n",
      "Processing Record 473 | laguna\n",
      "Processing Record 474 | tayu\n",
      "Processing Record 475 | rabo de peixe\n",
      "Processing Record 476 | port hedland\n",
      "Processing Record 477 | manokwari\n",
      "Processing Record 478 | ambilobe\n",
      "Processing Record 479 | labuhan\n",
      "Processing Record 480 | chodziez\n",
      "Processing Record 481 | grimari\n",
      "City not found\n"
     ]
    },
    {
     "name": "stdout",
     "output_type": "stream",
     "text": [
      "Processing Record 482 | mayfield\n",
      "Processing Record 483 | klyuchevskiy\n",
      "Processing Record 484 | hami\n",
      "Processing Record 485 | hay river\n",
      "Processing Record 486 | ngukurr\n",
      "City not found\n",
      "Processing Record 487 | chicama\n",
      "Processing Record 488 | sorland\n",
      "Processing Record 489 | beringovskiy\n",
      "Processing Record 490 | manado\n",
      "Processing Record 491 | nigde\n",
      "Processing Record 492 | babylon\n",
      "Processing Record 493 | san jeronimo\n",
      "Processing Record 494 | progreso\n",
      "Processing Record 495 | ahipara\n",
      "Processing Record 496 | balimo\n",
      "City not found\n",
      "Processing Record 497 | westport\n",
      "Processing Record 498 | pereleshinskiy\n",
      "Processing Record 499 | tilichiki\n",
      "Processing Record 500 | yasnyy\n",
      "Processing Record 501 | mizdah\n",
      "Processing Record 502 | buala\n",
      "Processing Record 503 | halalo\n",
      "City not found\n",
      "Processing Record 504 | along\n",
      "Processing Record 505 | elko\n",
      "Processing Record 506 | molchanovo\n",
      "Processing Record 507 | kita\n",
      "Processing Record 508 | tepeji\n",
      "City not found\n",
      "Processing Record 509 | jubayl\n",
      "City not found\n",
      "Processing Record 510 | khor\n",
      "Processing Record 511 | alappuzha\n",
      "Processing Record 512 | puerto escondido\n",
      "Processing Record 513 | tandalti\n",
      "Processing Record 514 | nishihara\n",
      "Processing Record 515 | deputatskiy\n",
      "Processing Record 516 | barcelos\n",
      "Processing Record 517 | carbonia\n",
      "Processing Record 518 | scottsbluff\n",
      "Processing Record 519 | neryungri\n",
      "Processing Record 520 | eureka\n",
      "Processing Record 521 | tiarei\n",
      "Processing Record 522 | salvador\n",
      "Processing Record 523 | balkanabat\n",
      "Processing Record 524 | ilanskiy\n",
      "Processing Record 525 | jurado\n",
      "Processing Record 526 | bathsheba\n",
      "Processing Record 527 | saint-augustin\n",
      "Processing Record 528 | bartica\n",
      "Processing Record 529 | altamont\n",
      "Processing Record 530 | spetsai\n",
      "City not found\n",
      "Processing Record 531 | bijapur\n",
      "Processing Record 532 | zhuhai\n",
      "Processing Record 533 | abu dhabi\n",
      "Processing Record 534 | burnie\n",
      "Processing Record 535 | paita\n",
      "Processing Record 536 | beyneu\n",
      "Processing Record 537 | reserva\n",
      "Processing Record 538 | sinnamary\n",
      "Processing Record 539 | san quintin\n",
      "Processing Record 540 | charters towers\n",
      "Processing Record 541 | bongandanga\n",
      "Processing Record 542 | falealupo\n",
      "City not found\n",
      "Processing Record 543 | puerto madryn\n",
      "Processing Record 544 | apatou\n",
      "Processing Record 545 | nara\n",
      "Processing Record 546 | tondano\n",
      "Processing Record 547 | aksarka\n",
      "Processing Record 548 | storslett\n",
      "Processing Record 549 | maumere\n",
      "Processing Record 550 | acarau\n",
      "Processing Record 551 | caxito\n",
      "Processing Record 552 | astana\n",
      "Processing Record 553 | blagoyevo\n",
      "Processing Record 554 | strathmore\n",
      "Processing Record 555 | ponta delgada\n",
      "Processing Record 556 | skibbereen\n",
      "Processing Record 557 | maputo\n",
      "Processing Record 558 | gualeguay\n",
      "Processing Record 559 | matay\n",
      "Processing Record 560 | makokou\n",
      "Processing Record 561 | litayen\n",
      "City not found\n",
      "Processing Record 562 | boralday\n",
      "Processing Record 563 | udachnyy\n",
      "Processing Record 564 | floriano\n",
      "Processing Record 565 | shingu\n",
      "Processing Record 566 | thoen\n",
      "Processing Record 567 | vung tau\n",
      "Processing Record 568 | ginda\n",
      "Processing Record 569 | yatou\n",
      "Processing Record 570 | saint-pierre\n",
      "Processing Record 571 | sassandra\n",
      "Processing Record 572 | dharchula\n",
      "Processing Record 573 | cap-aux-meules\n",
      "Processing Record 574 | flinders\n",
      "Processing Record 575 | mabaruma\n",
      "Processing Record 576 | morehead\n",
      "Processing Record 577 | muli\n",
      "Processing Record 578 | namibe\n",
      "Processing Record 579 | pitimbu\n",
      "Processing Record 580 | snezhnogorsk\n",
      "Processing Record 581 | marsh harbour\n",
      "Processing Record 582 | calama\n",
      "Processing Record 583 | port augusta\n",
      "Processing Record 584 | hambantota\n",
      "Processing Record 585 | abaza\n",
      "Processing Record 586 | motygino\n",
      "Processing Record 587 | marquette\n",
      "Processing Record 588 | natal\n",
      "Processing Record 589 | cap-chat\n",
      "Processing Record 590 | waipawa\n",
      "Processing Record 591 | rio grande\n",
      "Processing Record 592 | tecpan\n",
      "Processing Record 593 | mnogovershinnyy\n",
      "Processing Record 594 | safaqis\n",
      "City not found\n",
      "Processing Record 595 | kodinar\n",
      "Processing Record 596 | matanzas\n",
      "Processing Record 597 | oneida\n",
      "Processing Record 598 | cajabamba\n",
      "Processing Record 599 | beloha\n",
      "Processing Record 600 | novozavedennoye\n",
      "Processing Record 601 | fugen\n",
      "Processing Record 602 | kiama\n",
      "Processing Record 603 | west wendover\n",
      "Processing Record 604 | zyryanka\n",
      "Processing Record 605 | charcas\n",
      "Processing Record 606 | zhuozhou\n",
      "City not found\n",
      "Processing Record 607 | bath\n",
      "Processing Record 608 | stoyba\n",
      "City not found\n",
      "Processing Record 609 | karkaralinsk\n",
      "City not found\n",
      "Processing Record 610 | lupiro\n",
      "Processing Record 611 | linxia\n",
      "Processing Record 612 | askim\n",
      "Processing Record 613 | meadow lake\n",
      "Processing Record 614 | ksenyevka\n",
      "City not found\n",
      "Processing Record 615 | itarema\n",
      "Processing Record 616 | sunland park\n",
      "Processing Record 617 | azimur\n",
      "City not found\n",
      "Processing Record 618 | port pirie\n",
      "Processing Record 619 | waingapu\n",
      "Processing Record 620 | manadhoo\n"
     ]
    }
   ],
   "source": [
    "# Lists to call\n",
    "city_name = []\n",
    "city_id = []\n",
    "country = []\n",
    "date = []\n",
    "lat = []\n",
    "long = []\n",
    "temp = []\n",
    "hum = []\n",
    "wind_speed = []\n",
    "cloudiness = []\n",
    "\n",
    "x = 0 \n",
    "\n",
    "print('Beginning Data Retrieval')\n",
    "print(\"-\"*64)        \n",
    "\n",
    "for city in cities:\n",
    "    query_url = f'{url}appid={weather_api_key}&q={city}&units={units}'\n",
    "    \n",
    "    \n",
    "    try:\n",
    "        # Get metrics from api doc/response\n",
    "        response = requests.get(query_url + city).json()\n",
    "        x = x + 1\n",
    "        print(f'Processing Record {x} | {city}')\n",
    "        city_name.append(response['name'])\n",
    "        city_id.append(int(response['id']))\n",
    "        country.append(response['sys']['country'])\n",
    "        date.append((datetime.fromtimestamp(response['dt'])).strftime('%m/%d/%y'))\n",
    "        lat.append(response['coord']['lat'])\n",
    "        long.append(response['coord']['lon'])\n",
    "        temp.append(response['main']['temp_max'])\n",
    "        hum.append(response['main']['humidity'])\n",
    "        wind_speed.append(response['wind']['speed'])\n",
    "        cloudiness.append(response['clouds']['all'])\n",
    "    except KeyError:\n",
    "        print(\"City not found\")"
   ]
  },
  {
   "cell_type": "markdown",
   "metadata": {},
   "source": [
    "### Convert Raw Data to DataFrame\n",
    "* Export the city data into a .csv.\n",
    "* Display the DataFrame"
   ]
  },
  {
   "cell_type": "code",
   "execution_count": 25,
   "metadata": {
    "scrolled": true
   },
   "outputs": [
    {
     "data": {
      "text/html": [
       "<div>\n",
       "<style scoped>\n",
       "    .dataframe tbody tr th:only-of-type {\n",
       "        vertical-align: middle;\n",
       "    }\n",
       "\n",
       "    .dataframe tbody tr th {\n",
       "        vertical-align: top;\n",
       "    }\n",
       "\n",
       "    .dataframe thead th {\n",
       "        text-align: right;\n",
       "    }\n",
       "</style>\n",
       "<table border=\"1\" class=\"dataframe\">\n",
       "  <thead>\n",
       "    <tr style=\"text-align: right;\">\n",
       "      <th></th>\n",
       "      <th>City ID</th>\n",
       "      <th>City</th>\n",
       "      <th>Country</th>\n",
       "      <th>Lat</th>\n",
       "      <th>Long</th>\n",
       "      <th>Date</th>\n",
       "      <th>Temp Max</th>\n",
       "      <th>Humidity</th>\n",
       "      <th>Cloudiness</th>\n",
       "      <th>Wind Speed</th>\n",
       "    </tr>\n",
       "  </thead>\n",
       "  <tbody>\n",
       "    <tr>\n",
       "      <th>0</th>\n",
       "      <td>4030556</td>\n",
       "      <td>Rikitea</td>\n",
       "      <td>PF</td>\n",
       "      <td>-23.12</td>\n",
       "      <td>-134.97</td>\n",
       "      <td>11/24/20</td>\n",
       "      <td>296.98</td>\n",
       "      <td>82</td>\n",
       "      <td>100</td>\n",
       "      <td>6.38</td>\n",
       "    </tr>\n",
       "    <tr>\n",
       "      <th>1</th>\n",
       "      <td>4032243</td>\n",
       "      <td>Vaini</td>\n",
       "      <td>TO</td>\n",
       "      <td>-21.20</td>\n",
       "      <td>-175.20</td>\n",
       "      <td>11/24/20</td>\n",
       "      <td>300.15</td>\n",
       "      <td>78</td>\n",
       "      <td>75</td>\n",
       "      <td>4.10</td>\n",
       "    </tr>\n",
       "    <tr>\n",
       "      <th>2</th>\n",
       "      <td>2641434</td>\n",
       "      <td>Northam</td>\n",
       "      <td>GB</td>\n",
       "      <td>51.03</td>\n",
       "      <td>-4.22</td>\n",
       "      <td>11/24/20</td>\n",
       "      <td>283.71</td>\n",
       "      <td>95</td>\n",
       "      <td>100</td>\n",
       "      <td>1.34</td>\n",
       "    </tr>\n",
       "    <tr>\n",
       "      <th>3</th>\n",
       "      <td>1801640</td>\n",
       "      <td>Luzhou</td>\n",
       "      <td>CN</td>\n",
       "      <td>28.87</td>\n",
       "      <td>105.44</td>\n",
       "      <td>11/24/20</td>\n",
       "      <td>286.05</td>\n",
       "      <td>51</td>\n",
       "      <td>0</td>\n",
       "      <td>0.92</td>\n",
       "    </tr>\n",
       "    <tr>\n",
       "      <th>4</th>\n",
       "      <td>2088659</td>\n",
       "      <td>Panguna</td>\n",
       "      <td>PG</td>\n",
       "      <td>-6.32</td>\n",
       "      <td>155.48</td>\n",
       "      <td>11/24/20</td>\n",
       "      <td>297.46</td>\n",
       "      <td>67</td>\n",
       "      <td>100</td>\n",
       "      <td>1.01</td>\n",
       "    </tr>\n",
       "  </tbody>\n",
       "</table>\n",
       "</div>"
      ],
      "text/plain": [
       "   City ID     City Country    Lat    Long      Date  Temp Max  Humidity  \\\n",
       "0  4030556  Rikitea      PF -23.12 -134.97  11/24/20    296.98        82   \n",
       "1  4032243    Vaini      TO -21.20 -175.20  11/24/20    300.15        78   \n",
       "2  2641434  Northam      GB  51.03   -4.22  11/24/20    283.71        95   \n",
       "3  1801640   Luzhou      CN  28.87  105.44  11/24/20    286.05        51   \n",
       "4  2088659  Panguna      PG  -6.32  155.48  11/24/20    297.46        67   \n",
       "\n",
       "   Cloudiness  Wind Speed  \n",
       "0         100        6.38  \n",
       "1          75        4.10  \n",
       "2         100        1.34  \n",
       "3           0        0.92  \n",
       "4         100        1.01  "
      ]
     },
     "execution_count": 25,
     "metadata": {},
     "output_type": "execute_result"
    }
   ],
   "source": [
    "# put collected data into a dictionary\n",
    "weather = {\n",
    "    \"City ID\": city_id,\n",
    "    \"City\": city_name,\n",
    "    \"Country\": country,\n",
    "    \"Lat\": lat,\n",
    "    \"Long\": long,\n",
    "    \"Date\": date,\n",
    "    \"Temp Max\": temp,\n",
    "    \"Humidity\": hum,\n",
    "    \"Cloudiness\": cloudiness,\n",
    "    \"Wind Speed\": wind_speed\n",
    "}\n",
    "weather_df = pd.DataFrame(weather)\n",
    "weather_df.head()"
   ]
  },
  {
   "cell_type": "code",
   "execution_count": 34,
   "metadata": {},
   "outputs": [],
   "source": [
    "# (0K − 273.15) × 9/5 + 32 \n",
    "max_temp = weather_df['Temp Max']\n",
    "new_max = (max_temp - 273.15) * 9/5 + 32"
   ]
  },
  {
   "cell_type": "code",
   "execution_count": 35,
   "metadata": {},
   "outputs": [
    {
     "data": {
      "text/html": [
       "<div>\n",
       "<style scoped>\n",
       "    .dataframe tbody tr th:only-of-type {\n",
       "        vertical-align: middle;\n",
       "    }\n",
       "\n",
       "    .dataframe tbody tr th {\n",
       "        vertical-align: top;\n",
       "    }\n",
       "\n",
       "    .dataframe thead th {\n",
       "        text-align: right;\n",
       "    }\n",
       "</style>\n",
       "<table border=\"1\" class=\"dataframe\">\n",
       "  <thead>\n",
       "    <tr style=\"text-align: right;\">\n",
       "      <th></th>\n",
       "      <th>City ID</th>\n",
       "      <th>City</th>\n",
       "      <th>Country</th>\n",
       "      <th>Lat</th>\n",
       "      <th>Long</th>\n",
       "      <th>Date</th>\n",
       "      <th>Temp Max</th>\n",
       "      <th>Humidity</th>\n",
       "      <th>Cloudiness</th>\n",
       "      <th>Wind Speed</th>\n",
       "    </tr>\n",
       "  </thead>\n",
       "  <tbody>\n",
       "    <tr>\n",
       "      <th>0</th>\n",
       "      <td>4030556</td>\n",
       "      <td>Rikitea</td>\n",
       "      <td>PF</td>\n",
       "      <td>-23.12</td>\n",
       "      <td>-134.97</td>\n",
       "      <td>11/24/20</td>\n",
       "      <td>74.894</td>\n",
       "      <td>82</td>\n",
       "      <td>100</td>\n",
       "      <td>6.38</td>\n",
       "    </tr>\n",
       "    <tr>\n",
       "      <th>1</th>\n",
       "      <td>4032243</td>\n",
       "      <td>Vaini</td>\n",
       "      <td>TO</td>\n",
       "      <td>-21.20</td>\n",
       "      <td>-175.20</td>\n",
       "      <td>11/24/20</td>\n",
       "      <td>80.600</td>\n",
       "      <td>78</td>\n",
       "      <td>75</td>\n",
       "      <td>4.10</td>\n",
       "    </tr>\n",
       "    <tr>\n",
       "      <th>2</th>\n",
       "      <td>2641434</td>\n",
       "      <td>Northam</td>\n",
       "      <td>GB</td>\n",
       "      <td>51.03</td>\n",
       "      <td>-4.22</td>\n",
       "      <td>11/24/20</td>\n",
       "      <td>51.008</td>\n",
       "      <td>95</td>\n",
       "      <td>100</td>\n",
       "      <td>1.34</td>\n",
       "    </tr>\n",
       "    <tr>\n",
       "      <th>3</th>\n",
       "      <td>1801640</td>\n",
       "      <td>Luzhou</td>\n",
       "      <td>CN</td>\n",
       "      <td>28.87</td>\n",
       "      <td>105.44</td>\n",
       "      <td>11/24/20</td>\n",
       "      <td>55.220</td>\n",
       "      <td>51</td>\n",
       "      <td>0</td>\n",
       "      <td>0.92</td>\n",
       "    </tr>\n",
       "    <tr>\n",
       "      <th>4</th>\n",
       "      <td>2088659</td>\n",
       "      <td>Panguna</td>\n",
       "      <td>PG</td>\n",
       "      <td>-6.32</td>\n",
       "      <td>155.48</td>\n",
       "      <td>11/24/20</td>\n",
       "      <td>75.758</td>\n",
       "      <td>67</td>\n",
       "      <td>100</td>\n",
       "      <td>1.01</td>\n",
       "    </tr>\n",
       "  </tbody>\n",
       "</table>\n",
       "</div>"
      ],
      "text/plain": [
       "   City ID     City Country    Lat    Long      Date  Temp Max  Humidity  \\\n",
       "0  4030556  Rikitea      PF -23.12 -134.97  11/24/20    74.894        82   \n",
       "1  4032243    Vaini      TO -21.20 -175.20  11/24/20    80.600        78   \n",
       "2  2641434  Northam      GB  51.03   -4.22  11/24/20    51.008        95   \n",
       "3  1801640   Luzhou      CN  28.87  105.44  11/24/20    55.220        51   \n",
       "4  2088659  Panguna      PG  -6.32  155.48  11/24/20    75.758        67   \n",
       "\n",
       "   Cloudiness  Wind Speed  \n",
       "0         100        6.38  \n",
       "1          75        4.10  \n",
       "2         100        1.34  \n",
       "3           0        0.92  \n",
       "4         100        1.01  "
      ]
     },
     "execution_count": 35,
     "metadata": {},
     "output_type": "execute_result"
    }
   ],
   "source": [
    "# new df with temp in degrees F\n",
    "new_weather = {\n",
    "    \"City ID\": city_id,\n",
    "    \"City\": city_name,\n",
    "    \"Country\": country,\n",
    "    \"Lat\": lat,\n",
    "    \"Long\": long,\n",
    "    \"Date\": date,\n",
    "    \"Temp Max\": new_max,\n",
    "    \"Humidity\": hum,\n",
    "    \"Cloudiness\": cloudiness,\n",
    "    \"Wind Speed\": wind_speed\n",
    "}\n",
    "new_weather_df = pd.DataFrame(new_weather)\n",
    "new_weather_df.head()"
   ]
  },
  {
   "cell_type": "markdown",
   "metadata": {},
   "source": [
    "## Inspect the data and remove the cities where the humidity > 100%.\n",
    "----\n",
    "Skip this step if there are no cities that have humidity > 100%. "
   ]
  },
  {
   "cell_type": "code",
   "execution_count": 42,
   "metadata": {
    "scrolled": true
   },
   "outputs": [
    {
     "data": {
      "text/html": [
       "<div>\n",
       "<style scoped>\n",
       "    .dataframe tbody tr th:only-of-type {\n",
       "        vertical-align: middle;\n",
       "    }\n",
       "\n",
       "    .dataframe tbody tr th {\n",
       "        vertical-align: top;\n",
       "    }\n",
       "\n",
       "    .dataframe thead th {\n",
       "        text-align: right;\n",
       "    }\n",
       "</style>\n",
       "<table border=\"1\" class=\"dataframe\">\n",
       "  <thead>\n",
       "    <tr style=\"text-align: right;\">\n",
       "      <th></th>\n",
       "      <th>City ID</th>\n",
       "      <th>City</th>\n",
       "      <th>Country</th>\n",
       "      <th>Lat</th>\n",
       "      <th>Long</th>\n",
       "      <th>Date</th>\n",
       "      <th>Temp Max</th>\n",
       "      <th>Humidity</th>\n",
       "      <th>Cloudiness</th>\n",
       "      <th>Wind Speed</th>\n",
       "    </tr>\n",
       "  </thead>\n",
       "  <tbody>\n",
       "  </tbody>\n",
       "</table>\n",
       "</div>"
      ],
      "text/plain": [
       "Empty DataFrame\n",
       "Columns: [City ID, City, Country, Lat, Long, Date, Temp Max, Humidity, Cloudiness, Wind Speed]\n",
       "Index: []"
      ]
     },
     "execution_count": 42,
     "metadata": {},
     "output_type": "execute_result"
    }
   ],
   "source": [
    "# Check for humidity greater than 100%\n",
    "hum_g100 = new_weather_df.loc[new_weather_df['Humidity'] > 100]\n",
    "hum_g100\n",
    "# Result = there are none"
   ]
  },
  {
   "cell_type": "code",
   "execution_count": 17,
   "metadata": {},
   "outputs": [
    {
     "data": {
      "text/plain": [
       "Int64Index([], dtype='int64')"
      ]
     },
     "execution_count": 17,
     "metadata": {},
     "output_type": "execute_result"
    }
   ],
   "source": [
    "#  Get the indices of cities that have humidity over 100%.\n",
    "# NA"
   ]
  },
  {
   "cell_type": "code",
   "execution_count": 19,
   "metadata": {},
   "outputs": [
    {
     "data": {
      "text/html": [
       "<div>\n",
       "<style scoped>\n",
       "    .dataframe tbody tr th:only-of-type {\n",
       "        vertical-align: middle;\n",
       "    }\n",
       "\n",
       "    .dataframe tbody tr th {\n",
       "        vertical-align: top;\n",
       "    }\n",
       "\n",
       "    .dataframe thead th {\n",
       "        text-align: right;\n",
       "    }\n",
       "</style>\n",
       "<table border=\"1\" class=\"dataframe\">\n",
       "  <thead>\n",
       "    <tr style=\"text-align: right;\">\n",
       "      <th></th>\n",
       "      <th>City</th>\n",
       "      <th>Lat</th>\n",
       "      <th>Lng</th>\n",
       "      <th>Max Temp</th>\n",
       "      <th>Humidity</th>\n",
       "      <th>Cloudiness</th>\n",
       "      <th>Wind Speed</th>\n",
       "      <th>Country</th>\n",
       "      <th>Date</th>\n",
       "    </tr>\n",
       "  </thead>\n",
       "  <tbody>\n",
       "    <tr>\n",
       "      <td>0</td>\n",
       "      <td>butaritari</td>\n",
       "      <td>3.07</td>\n",
       "      <td>172.79</td>\n",
       "      <td>83.32</td>\n",
       "      <td>74</td>\n",
       "      <td>84</td>\n",
       "      <td>10.42</td>\n",
       "      <td>KI</td>\n",
       "      <td>1593605283</td>\n",
       "    </tr>\n",
       "    <tr>\n",
       "      <td>1</td>\n",
       "      <td>yerbogachen</td>\n",
       "      <td>61.28</td>\n",
       "      <td>108.01</td>\n",
       "      <td>79.52</td>\n",
       "      <td>58</td>\n",
       "      <td>20</td>\n",
       "      <td>7.70</td>\n",
       "      <td>RU</td>\n",
       "      <td>1593605121</td>\n",
       "    </tr>\n",
       "    <tr>\n",
       "      <td>2</td>\n",
       "      <td>cape town</td>\n",
       "      <td>-33.93</td>\n",
       "      <td>18.42</td>\n",
       "      <td>73.00</td>\n",
       "      <td>77</td>\n",
       "      <td>27</td>\n",
       "      <td>4.70</td>\n",
       "      <td>ZA</td>\n",
       "      <td>1593605039</td>\n",
       "    </tr>\n",
       "    <tr>\n",
       "      <td>3</td>\n",
       "      <td>touba</td>\n",
       "      <td>8.28</td>\n",
       "      <td>-7.68</td>\n",
       "      <td>79.97</td>\n",
       "      <td>75</td>\n",
       "      <td>82</td>\n",
       "      <td>3.58</td>\n",
       "      <td>CI</td>\n",
       "      <td>1593605284</td>\n",
       "    </tr>\n",
       "    <tr>\n",
       "      <td>4</td>\n",
       "      <td>jamestown</td>\n",
       "      <td>42.10</td>\n",
       "      <td>-79.24</td>\n",
       "      <td>64.00</td>\n",
       "      <td>88</td>\n",
       "      <td>1</td>\n",
       "      <td>6.93</td>\n",
       "      <td>US</td>\n",
       "      <td>1593605284</td>\n",
       "    </tr>\n",
       "  </tbody>\n",
       "</table>\n",
       "</div>"
      ],
      "text/plain": [
       "          City    Lat     Lng  Max Temp  Humidity  Cloudiness  Wind Speed  \\\n",
       "0   butaritari   3.07  172.79     83.32        74          84       10.42   \n",
       "1  yerbogachen  61.28  108.01     79.52        58          20        7.70   \n",
       "2    cape town -33.93   18.42     73.00        77          27        4.70   \n",
       "3        touba   8.28   -7.68     79.97        75          82        3.58   \n",
       "4    jamestown  42.10  -79.24     64.00        88           1        6.93   \n",
       "\n",
       "  Country        Date  \n",
       "0      KI  1593605283  \n",
       "1      RU  1593605121  \n",
       "2      ZA  1593605039  \n",
       "3      CI  1593605284  \n",
       "4      US  1593605284  "
      ]
     },
     "execution_count": 19,
     "metadata": {},
     "output_type": "execute_result"
    }
   ],
   "source": [
    "# Make a new DataFrame equal to the city data to drop all humidity outliers by index.\n",
    "# Passing \"inplace=False\" will make a copy of the city_data DataFrame, which we call \"clean_city_data\".\n",
    "# NA there are none"
   ]
  },
  {
   "cell_type": "markdown",
   "metadata": {},
   "source": [
    "## Plotting the Data\n",
    "* Use proper labeling of the plots using plot titles (including date of analysis) and axes labels.\n",
    "* Save the plotted figures as .pngs."
   ]
  },
  {
   "cell_type": "markdown",
   "metadata": {},
   "source": [
    "## Latitude vs. Temperature Plot"
   ]
  },
  {
   "cell_type": "code",
   "execution_count": 75,
   "metadata": {},
   "outputs": [],
   "source": [
    "today = datetime.now().strftime(\"%m/%d/%Y\")"
   ]
  },
  {
   "cell_type": "code",
   "execution_count": 89,
   "metadata": {
    "scrolled": true
   },
   "outputs": [
    {
     "data": {
      "text/plain": [
       "<matplotlib.collections.PathCollection at 0x2857c6abd60>"
      ]
     },
     "execution_count": 89,
     "metadata": {},
     "output_type": "execute_result"
    },
    {
     "data": {
      "image/png": "[encoded data removed]",
      "text/plain": [
       "<Figure size 432x288 with 1 Axes>"
      ]
     },
     "metadata": {
      "needs_background": "light"
     },
     "output_type": "display_data"
    }
   ],
   "source": [
    "x = new_weather_df['Lat']\n",
    "y = new_weather_df['Temp Max']\n",
    "\n",
    "plt.title(\"City Latitude vs. Temp Max \" + today)\n",
    "plt.grid(b=True, which='major', color='#666666', linestyle='-')\n",
    "plt.xlabel(\"Latitude\")\n",
    "plt.ylabel(\"Temp Max (F)\")\n",
    "plt.scatter(x,y, edgecolors='black')\n"
   ]
  },
  {
   "cell_type": "markdown",
   "metadata": {},
   "source": [
    "## Latitude vs. Humidity Plot"
   ]
  },
  {
   "cell_type": "code",
   "execution_count": 90,
   "metadata": {},
   "outputs": [
    {
     "data": {
      "text/plain": [
       "<matplotlib.collections.PathCollection at 0x2857c7122b0>"
      ]
     },
     "execution_count": 90,
     "metadata": {},
     "output_type": "execute_result"
    },
    {
     "data": {
      "image/png": "[encoded data removed]",
      "text/plain": [
       "<Figure size 432x288 with 1 Axes>"
      ]
     },
     "metadata": {
      "needs_background": "light"
     },
     "output_type": "display_data"
    }
   ],
   "source": [
    "x = new_weather_df['Lat']\n",
    "y = new_weather_df['Humidity']\n",
    "\n",
    "plt.title(\"City Latitude vs. City Humidity \" + today)\n",
    "plt.grid(b=True, which='major', color='#666666', linestyle='-')\n",
    "plt.xlabel(\"Latitude\")\n",
    "plt.ylabel(\"Humidity\")\n",
    "plt.scatter(x,y, edgecolors='black')"
   ]
  },
  {
   "cell_type": "markdown",
   "metadata": {},
   "source": [
    "## Latitude vs. Cloudiness Plot"
   ]
  },
  {
   "cell_type": "code",
   "execution_count": 91,
   "metadata": {},
   "outputs": [
    {
     "data": {
      "text/plain": [
       "<matplotlib.collections.PathCollection at 0x2857c762d00>"
      ]
     },
     "execution_count": 91,
     "metadata": {},
     "output_type": "execute_result"
    },
    {
     "data": {
      "image/png": "[encoded data removed]",
      "text/plain": [
       "<Figure size 432x288 with 1 Axes>"
      ]
     },
     "metadata": {
      "needs_background": "light"
     },
     "output_type": "display_data"
    }
   ],
   "source": [
    "x = new_weather_df['Lat']\n",
    "y = new_weather_df['Cloudiness']\n",
    "\n",
    "plt.title(\"City Latitude vs. Cloudiness \" + today)\n",
    "plt.grid(b=True, which='major', color='#666666', linestyle='-')\n",
    "plt.xlabel(\"Latitude\")\n",
    "plt.ylabel(\"Cloudiness (%)\")\n",
    "plt.scatter(x,y, edgecolors='black')"
   ]
  },
  {
   "cell_type": "markdown",
   "metadata": {},
   "source": [
    "## Latitude vs. Wind Speed Plot"
   ]
  },
  {
   "cell_type": "code",
   "execution_count": 92,
   "metadata": {},
   "outputs": [
    {
     "data": {
      "text/plain": [
       "<matplotlib.collections.PathCollection at 0x2857c7bed60>"
      ]
     },
     "execution_count": 92,
     "metadata": {},
     "output_type": "execute_result"
    },
    {
     "data": {
      "image/png": "[encoded data removed]",
      "text/plain": [
       "<Figure size 432x288 with 1 Axes>"
      ]
     },
     "metadata": {
      "needs_background": "light"
     },
     "output_type": "display_data"
    }
   ],
   "source": [
    "x = new_weather_df['Lat']\n",
    "y = new_weather_df['Wind Speed']\n",
    "\n",
    "plt.title(\"City Latitude vs. Wind Speed \" + today)\n",
    "plt.grid(b=True, which='major', color='#666666', linestyle='-')\n",
    "plt.xlabel(\"Latitude\")\n",
    "plt.ylabel(\"Cloudiness (%)\")\n",
    "plt.scatter(x,y, edgecolors='black')"
   ]
  },
  {
   "cell_type": "markdown",
   "metadata": {},
   "source": [
    "## Linear Regression"
   ]
  },
  {
   "cell_type": "code",
   "execution_count": 24,
   "metadata": {},
   "outputs": [],
   "source": []
  },
  {
   "cell_type": "markdown",
   "metadata": {},
   "source": [
    "####  Northern Hemisphere - Max Temp vs. Latitude Linear Regression"
   ]
  },
  {
   "cell_type": "code",
   "execution_count": 94,
   "metadata": {},
   "outputs": [
    {
     "data": {
      "text/html": [
       "<div>\n",
       "<style scoped>\n",
       "    .dataframe tbody tr th:only-of-type {\n",
       "        vertical-align: middle;\n",
       "    }\n",
       "\n",
       "    .dataframe tbody tr th {\n",
       "        vertical-align: top;\n",
       "    }\n",
       "\n",
       "    .dataframe thead th {\n",
       "        text-align: right;\n",
       "    }\n",
       "</style>\n",
       "<table border=\"1\" class=\"dataframe\">\n",
       "  <thead>\n",
       "    <tr style=\"text-align: right;\">\n",
       "      <th></th>\n",
       "      <th>City ID</th>\n",
       "      <th>City</th>\n",
       "      <th>Country</th>\n",
       "      <th>Lat</th>\n",
       "      <th>Long</th>\n",
       "      <th>Date</th>\n",
       "      <th>Temp Max</th>\n",
       "      <th>Humidity</th>\n",
       "      <th>Cloudiness</th>\n",
       "      <th>Wind Speed</th>\n",
       "    </tr>\n",
       "  </thead>\n",
       "  <tbody>\n",
       "    <tr>\n",
       "      <th>2</th>\n",
       "      <td>2641434</td>\n",
       "      <td>Northam</td>\n",
       "      <td>GB</td>\n",
       "      <td>51.03</td>\n",
       "      <td>-4.22</td>\n",
       "      <td>11/24/20</td>\n",
       "      <td>51.008</td>\n",
       "      <td>95</td>\n",
       "      <td>100</td>\n",
       "      <td>1.34</td>\n",
       "    </tr>\n",
       "    <tr>\n",
       "      <th>3</th>\n",
       "      <td>1801640</td>\n",
       "      <td>Luzhou</td>\n",
       "      <td>CN</td>\n",
       "      <td>28.87</td>\n",
       "      <td>105.44</td>\n",
       "      <td>11/24/20</td>\n",
       "      <td>55.220</td>\n",
       "      <td>51</td>\n",
       "      <td>0</td>\n",
       "      <td>0.92</td>\n",
       "    </tr>\n",
       "    <tr>\n",
       "      <th>10</th>\n",
       "      <td>5122534</td>\n",
       "      <td>Jamestown</td>\n",
       "      <td>US</td>\n",
       "      <td>42.10</td>\n",
       "      <td>-79.24</td>\n",
       "      <td>11/24/20</td>\n",
       "      <td>37.004</td>\n",
       "      <td>69</td>\n",
       "      <td>90</td>\n",
       "      <td>2.60</td>\n",
       "    </tr>\n",
       "    <tr>\n",
       "      <th>12</th>\n",
       "      <td>3374210</td>\n",
       "      <td>São Filipe</td>\n",
       "      <td>CV</td>\n",
       "      <td>14.90</td>\n",
       "      <td>-24.50</td>\n",
       "      <td>11/24/20</td>\n",
       "      <td>79.178</td>\n",
       "      <td>72</td>\n",
       "      <td>100</td>\n",
       "      <td>2.57</td>\n",
       "    </tr>\n",
       "    <tr>\n",
       "      <th>13</th>\n",
       "      <td>336454</td>\n",
       "      <td>Ginir</td>\n",
       "      <td>ET</td>\n",
       "      <td>7.13</td>\n",
       "      <td>40.70</td>\n",
       "      <td>11/24/20</td>\n",
       "      <td>56.390</td>\n",
       "      <td>70</td>\n",
       "      <td>54</td>\n",
       "      <td>1.54</td>\n",
       "    </tr>\n",
       "  </tbody>\n",
       "</table>\n",
       "</div>"
      ],
      "text/plain": [
       "    City ID        City Country    Lat    Long      Date  Temp Max  Humidity  \\\n",
       "2   2641434     Northam      GB  51.03   -4.22  11/24/20    51.008        95   \n",
       "3   1801640      Luzhou      CN  28.87  105.44  11/24/20    55.220        51   \n",
       "10  5122534   Jamestown      US  42.10  -79.24  11/24/20    37.004        69   \n",
       "12  3374210  São Filipe      CV  14.90  -24.50  11/24/20    79.178        72   \n",
       "13   336454       Ginir      ET   7.13   40.70  11/24/20    56.390        70   \n",
       "\n",
       "    Cloudiness  Wind Speed  \n",
       "2          100        1.34  \n",
       "3            0        0.92  \n",
       "10          90        2.60  \n",
       "12         100        2.57  \n",
       "13          54        1.54  "
      ]
     },
     "execution_count": 94,
     "metadata": {},
     "output_type": "execute_result"
    }
   ],
   "source": [
    "north_df = new_weather_df.loc[new_weather_df['Lat'] >= 0]\n",
    "north_df.head()"
   ]
  },
  {
   "cell_type": "code",
   "execution_count": 112,
   "metadata": {},
   "outputs": [
    {
     "name": "stdout",
     "output_type": "stream",
     "text": [
      "The r-value is -0.88\n"
     ]
    },
    {
     "data": {
      "text/plain": [
       "<matplotlib.collections.PathCollection at 0x2857e188e20>"
      ]
     },
     "execution_count": 112,
     "metadata": {},
     "output_type": "execute_result"
    },
    {
     "data": {
      "image/png": "[encoded data removed]",
      "text/plain": [
       "<Figure size 432x288 with 1 Axes>"
      ]
     },
     "metadata": {
      "needs_background": "light"
     },
     "output_type": "display_data"
    }
   ],
   "source": [
    "x = north_df['Lat']\n",
    "y = north_df['Temp Max']\n",
    "\n",
    "plt.title(\"Northern Hemisphere Max Temp vs. Latitude \" + today)\n",
    "# plt.grid(b=True, which='major', color='#666666', linestyle='-')\n",
    "plt.xlabel(\"Latitude\")\n",
    "plt.ylabel(\"Max Temp\")\n",
    "\n",
    "# Correlation\n",
    "correlation = st.pearsonr(x, y)\n",
    "print(f\"The r-value is {round(correlation[0],2)}\")\n",
    "\n",
    "# Regression line\n",
    "(slope, intercept, rvalue, pvalue, stderr) = linregress(x, y)\n",
    "regress_values = x * slope + intercept\n",
    "line_eq = \"y = \" + str(round(slope,2)) + \"x + \" + str(round(intercept,2))\n",
    "# Add equation\n",
    "plt.annotate(line_eq,(0,-10),fontsize=15,color=\"red\")\n",
    "\n",
    "# Plot\n",
    "plt.plot(x,regress_values,\"r-\")\n",
    "plt.scatter(x,y, edgecolors='black')"
   ]
  },
  {
   "cell_type": "markdown",
   "metadata": {},
   "source": [
    "####  Southern Hemisphere - Max Temp vs. Latitude Linear Regression"
   ]
  },
  {
   "cell_type": "code",
   "execution_count": 113,
   "metadata": {},
   "outputs": [
    {
     "data": {
      "text/html": [
       "<div>\n",
       "<style scoped>\n",
       "    .dataframe tbody tr th:only-of-type {\n",
       "        vertical-align: middle;\n",
       "    }\n",
       "\n",
       "    .dataframe tbody tr th {\n",
       "        vertical-align: top;\n",
       "    }\n",
       "\n",
       "    .dataframe thead th {\n",
       "        text-align: right;\n",
       "    }\n",
       "</style>\n",
       "<table border=\"1\" class=\"dataframe\">\n",
       "  <thead>\n",
       "    <tr style=\"text-align: right;\">\n",
       "      <th></th>\n",
       "      <th>City ID</th>\n",
       "      <th>City</th>\n",
       "      <th>Country</th>\n",
       "      <th>Lat</th>\n",
       "      <th>Long</th>\n",
       "      <th>Date</th>\n",
       "      <th>Temp Max</th>\n",
       "      <th>Humidity</th>\n",
       "      <th>Cloudiness</th>\n",
       "      <th>Wind Speed</th>\n",
       "    </tr>\n",
       "  </thead>\n",
       "  <tbody>\n",
       "    <tr>\n",
       "      <th>0</th>\n",
       "      <td>4030556</td>\n",
       "      <td>Rikitea</td>\n",
       "      <td>PF</td>\n",
       "      <td>-23.12</td>\n",
       "      <td>-134.97</td>\n",
       "      <td>11/24/20</td>\n",
       "      <td>74.894</td>\n",
       "      <td>82</td>\n",
       "      <td>100</td>\n",
       "      <td>6.38</td>\n",
       "    </tr>\n",
       "    <tr>\n",
       "      <th>1</th>\n",
       "      <td>4032243</td>\n",
       "      <td>Vaini</td>\n",
       "      <td>TO</td>\n",
       "      <td>-21.20</td>\n",
       "      <td>-175.20</td>\n",
       "      <td>11/24/20</td>\n",
       "      <td>80.600</td>\n",
       "      <td>78</td>\n",
       "      <td>75</td>\n",
       "      <td>4.10</td>\n",
       "    </tr>\n",
       "    <tr>\n",
       "      <th>4</th>\n",
       "      <td>2088659</td>\n",
       "      <td>Panguna</td>\n",
       "      <td>PG</td>\n",
       "      <td>-6.32</td>\n",
       "      <td>155.48</td>\n",
       "      <td>11/24/20</td>\n",
       "      <td>75.758</td>\n",
       "      <td>67</td>\n",
       "      <td>100</td>\n",
       "      <td>1.01</td>\n",
       "    </tr>\n",
       "    <tr>\n",
       "      <th>5</th>\n",
       "      <td>3874787</td>\n",
       "      <td>Punta Arenas</td>\n",
       "      <td>CL</td>\n",
       "      <td>-53.15</td>\n",
       "      <td>-70.92</td>\n",
       "      <td>11/24/20</td>\n",
       "      <td>46.400</td>\n",
       "      <td>70</td>\n",
       "      <td>0</td>\n",
       "      <td>7.70</td>\n",
       "    </tr>\n",
       "    <tr>\n",
       "      <th>6</th>\n",
       "      <td>4020109</td>\n",
       "      <td>Atuona</td>\n",
       "      <td>PF</td>\n",
       "      <td>-9.80</td>\n",
       "      <td>-139.03</td>\n",
       "      <td>11/24/20</td>\n",
       "      <td>78.782</td>\n",
       "      <td>73</td>\n",
       "      <td>63</td>\n",
       "      <td>5.77</td>\n",
       "    </tr>\n",
       "  </tbody>\n",
       "</table>\n",
       "</div>"
      ],
      "text/plain": [
       "   City ID          City Country    Lat    Long      Date  Temp Max  Humidity  \\\n",
       "0  4030556       Rikitea      PF -23.12 -134.97  11/24/20    74.894        82   \n",
       "1  4032243         Vaini      TO -21.20 -175.20  11/24/20    80.600        78   \n",
       "4  2088659       Panguna      PG  -6.32  155.48  11/24/20    75.758        67   \n",
       "5  3874787  Punta Arenas      CL -53.15  -70.92  11/24/20    46.400        70   \n",
       "6  4020109        Atuona      PF  -9.80 -139.03  11/24/20    78.782        73   \n",
       "\n",
       "   Cloudiness  Wind Speed  \n",
       "0         100        6.38  \n",
       "1          75        4.10  \n",
       "4         100        1.01  \n",
       "5           0        7.70  \n",
       "6          63        5.77  "
      ]
     },
     "execution_count": 113,
     "metadata": {},
     "output_type": "execute_result"
    }
   ],
   "source": [
    "south_df = new_weather_df.loc[new_weather_df['Lat'] <= 0]\n",
    "south_df.head()"
   ]
  },
  {
   "cell_type": "code",
   "execution_count": 115,
   "metadata": {},
   "outputs": [
    {
     "name": "stdout",
     "output_type": "stream",
     "text": [
      "The r-value is 0.45\n"
     ]
    },
    {
     "data": {
      "text/plain": [
       "<matplotlib.collections.PathCollection at 0x2857e23c8b0>"
      ]
     },
     "execution_count": 115,
     "metadata": {},
     "output_type": "execute_result"
    },
    {
     "data": {
      "image/png": "[encoded data removed]",
      "text/plain": [
       "<Figure size 432x288 with 1 Axes>"
      ]
     },
     "metadata": {
      "needs_background": "light"
     },
     "output_type": "display_data"
    }
   ],
   "source": [
    "a = south_df['Lat']\n",
    "b = south_df['Temp Max']\n",
    "\n",
    "plt.title(\"Southern Hemisphere Max Temp vs. Latitude \" + today)\n",
    "# plt.grid(b=True, which='major', color='#666666', linestyle='-')\n",
    "plt.xlabel(\"Latitude\")\n",
    "plt.ylabel(\"Max Temp\")\n",
    "\n",
    "# Correlation\n",
    "correlation = st.pearsonr(a, b)\n",
    "print(f\"The r-value is {round(correlation[0],2)}\")\n",
    "\n",
    "# Regression line\n",
    "(slope, intercept, rvalue, pvalue, stderr) = linregress(a, b)\n",
    "regress_values = a * slope + intercept\n",
    "line_eq = \"y = \" + str(round(slope,2)) + \"x + \" + str(round(intercept,2))\n",
    "# Add equation\n",
    "plt.annotate(line_eq,(0,-10),fontsize=15,color=\"red\")\n",
    "\n",
    "# Plot\n",
    "plt.plot(a,regress_values,\"r-\")\n",
    "plt.scatter(a,b, edgecolors='black')"
   ]
  },
  {
   "cell_type": "markdown",
   "metadata": {},
   "source": [
    "####  Northern Hemisphere - Humidity (%) vs. Latitude Linear Regression"
   ]
  },
  {
   "cell_type": "code",
   "execution_count": 118,
   "metadata": {},
   "outputs": [
    {
     "name": "stdout",
     "output_type": "stream",
     "text": [
      "The r-value is 0.38\n"
     ]
    },
    {
     "data": {
      "text/plain": [
       "<matplotlib.collections.PathCollection at 0x2857e342820>"
      ]
     },
     "execution_count": 118,
     "metadata": {},
     "output_type": "execute_result"
    },
    {
     "data": {
      "image/png": "[encoded data removed]",
      "text/plain": [
       "<Figure size 432x288 with 1 Axes>"
      ]
     },
     "metadata": {
      "needs_background": "light"
     },
     "output_type": "display_data"
    }
   ],
   "source": [
    "x = north_df['Lat']\n",
    "y = north_df['Humidity']\n",
    "\n",
    "plt.title(\"Northern Hemisphere Humidity vs. Latitude \" + today)\n",
    "# plt.grid(b=True, which='major', color='#666666', linestyle='-')\n",
    "plt.xlabel(\"Latitude\")\n",
    "plt.ylabel(\"Humidity (%)\")\n",
    "\n",
    "# Correlation\n",
    "correlation = st.pearsonr(x, y)\n",
    "print(f\"The r-value is {round(correlation[0],2)}\")\n",
    "\n",
    "# Regression line\n",
    "(slope, intercept, rvalue, pvalue, stderr) = linregress(x, y)\n",
    "regress_values = x * slope + intercept\n",
    "line_eq = \"y = \" + str(round(slope,2)) + \"x + \" + str(round(intercept,2))\n",
    "# Add equation\n",
    "plt.annotate(line_eq,(0,-10),fontsize=15,color=\"red\")\n",
    "\n",
    "# Plot\n",
    "plt.plot(x,regress_values,\"r-\")\n",
    "plt.scatter(x,y, edgecolors='black')"
   ]
  },
  {
   "cell_type": "markdown",
   "metadata": {},
   "source": [
    "####  Southern Hemisphere - Humidity (%) vs. Latitude Linear Regression"
   ]
  },
  {
   "cell_type": "code",
   "execution_count": 119,
   "metadata": {},
   "outputs": [
    {
     "name": "stdout",
     "output_type": "stream",
     "text": [
      "The r-value is 0.25\n"
     ]
    },
    {
     "data": {
      "text/plain": [
       "<matplotlib.collections.PathCollection at 0x2857e39c490>"
      ]
     },
     "execution_count": 119,
     "metadata": {},
     "output_type": "execute_result"
    },
    {
     "data": {
      "image/png": "[encoded data removed]",
      "text/plain": [
       "<Figure size 432x288 with 1 Axes>"
      ]
     },
     "metadata": {
      "needs_background": "light"
     },
     "output_type": "display_data"
    }
   ],
   "source": [
    "a = south_df['Lat']\n",
    "b = south_df['Humidity']\n",
    "\n",
    "plt.title(\"Southern Hemisphere Humidity vs. Latitude \" + today)\n",
    "# plt.grid(b=True, which='major', color='#666666', linestyle='-')\n",
    "plt.xlabel(\"Latitude\")\n",
    "plt.ylabel(\"Humidity (%)\")\n",
    "\n",
    "# Correlation\n",
    "correlation = st.pearsonr(a, b)\n",
    "print(f\"The r-value is {round(correlation[0],2)}\")\n",
    "\n",
    "# Regression line\n",
    "(slope, intercept, rvalue, pvalue, stderr) = linregress(a, b)\n",
    "regress_values = a * slope + intercept\n",
    "line_eq = \"y = \" + str(round(slope,2)) + \"x + \" + str(round(intercept,2))\n",
    "# Add equation\n",
    "plt.annotate(line_eq,(0,-10),fontsize=15,color=\"red\")\n",
    "\n",
    "# Plot\n",
    "plt.plot(a,regress_values,\"r-\")\n",
    "plt.scatter(a,b, edgecolors='black')"
   ]
  },
  {
   "cell_type": "markdown",
   "metadata": {},
   "source": [
    "####  Northern Hemisphere - Cloudiness (%) vs. Latitude Linear Regression"
   ]
  },
  {
   "cell_type": "code",
   "execution_count": 120,
   "metadata": {},
   "outputs": [
    {
     "name": "stdout",
     "output_type": "stream",
     "text": [
      "The r-value is 0.28\n"
     ]
    },
    {
     "data": {
      "text/plain": [
       "<matplotlib.collections.PathCollection at 0x2857e3e4f40>"
      ]
     },
     "execution_count": 120,
     "metadata": {},
     "output_type": "execute_result"
    },
    {
     "data": {
      "image/png": "[encoded data removed]",
      "text/plain": [
       "<Figure size 432x288 with 1 Axes>"
      ]
     },
     "metadata": {
      "needs_background": "light"
     },
     "output_type": "display_data"
    }
   ],
   "source": [
    "x = north_df['Lat']\n",
    "y = north_df['Cloudiness']\n",
    "\n",
    "plt.title(\"Northern Hemisphere Cloudiness vs. Latitude \" + today)\n",
    "# plt.grid(b=True, which='major', color='#666666', linestyle='-')\n",
    "plt.xlabel(\"Latitude\")\n",
    "plt.ylabel(\"Cloudiness (%)\")\n",
    "\n",
    "# Correlation\n",
    "correlation = st.pearsonr(x, y)\n",
    "print(f\"The r-value is {round(correlation[0],2)}\")\n",
    "\n",
    "# Regression line\n",
    "(slope, intercept, rvalue, pvalue, stderr) = linregress(x, y)\n",
    "regress_values = x * slope + intercept\n",
    "line_eq = \"y = \" + str(round(slope,2)) + \"x + \" + str(round(intercept,2))\n",
    "# Add equation\n",
    "plt.annotate(line_eq,(0,-10),fontsize=15,color=\"red\")\n",
    "\n",
    "# Plot\n",
    "plt.plot(x,regress_values,\"r-\")\n",
    "plt.scatter(x,y, edgecolors='black')"
   ]
  },
  {
   "cell_type": "markdown",
   "metadata": {},
   "source": [
    "####  Southern Hemisphere - Cloudiness (%) vs. Latitude Linear Regression"
   ]
  },
  {
   "cell_type": "code",
   "execution_count": 121,
   "metadata": {},
   "outputs": [
    {
     "name": "stdout",
     "output_type": "stream",
     "text": [
      "The r-value is 0.37\n"
     ]
    },
    {
     "data": {
      "text/plain": [
       "<matplotlib.collections.PathCollection at 0x2857e44a400>"
      ]
     },
     "execution_count": 121,
     "metadata": {},
     "output_type": "execute_result"
    },
    {
     "data": {
      "image/png": "[encoded data removed]",
      "text/plain": [
       "<Figure size 432x288 with 1 Axes>"
      ]
     },
     "metadata": {
      "needs_background": "light"
     },
     "output_type": "display_data"
    }
   ],
   "source": [
    "a = south_df['Lat']\n",
    "b = south_df['Cloudiness']\n",
    "\n",
    "plt.title(\"Southern Hemisphere Cloudiness vs. Latitude \" + today)\n",
    "# plt.grid(b=True, which='major', color='#666666', linestyle='-')\n",
    "plt.xlabel(\"Latitude\")\n",
    "plt.ylabel(\"Cloudiness (%)\")\n",
    "\n",
    "# Correlation\n",
    "correlation = st.pearsonr(a, b)\n",
    "print(f\"The r-value is {round(correlation[0],2)}\")\n",
    "\n",
    "# Regression line\n",
    "(slope, intercept, rvalue, pvalue, stderr) = linregress(a, b)\n",
    "regress_values = a * slope + intercept\n",
    "line_eq = \"y = \" + str(round(slope,2)) + \"x + \" + str(round(intercept,2))\n",
    "# Add equation\n",
    "plt.annotate(line_eq,(0,-10),fontsize=15,color=\"red\")\n",
    "\n",
    "# Plot\n",
    "plt.plot(a,regress_values,\"r-\")\n",
    "plt.scatter(a,b, edgecolors='black')"
   ]
  },
  {
   "cell_type": "markdown",
   "metadata": {},
   "source": [
    "####  Northern Hemisphere - Wind Speed (mph) vs. Latitude Linear Regression"
   ]
  },
  {
   "cell_type": "code",
   "execution_count": 122,
   "metadata": {},
   "outputs": [
    {
     "name": "stdout",
     "output_type": "stream",
     "text": [
      "The r-value is 0.2\n"
     ]
    },
    {
     "data": {
      "text/plain": [
       "<matplotlib.collections.PathCollection at 0x2857e499820>"
      ]
     },
     "execution_count": 122,
     "metadata": {},
     "output_type": "execute_result"
    },
    {
     "data": {
      "image/png": "[encoded data removed]",
      "text/plain": [
       "<Figure size 432x288 with 1 Axes>"
      ]
     },
     "metadata": {
      "needs_background": "light"
     },
     "output_type": "display_data"
    }
   ],
   "source": [
    "x = north_df['Lat']\n",
    "y = north_df['Wind Speed']\n",
    "\n",
    "plt.title(\"Northern Hemisphere Wind Speed vs. Latitude \" + today)\n",
    "# plt.grid(b=True, which='major', color='#666666', linestyle='-')\n",
    "plt.xlabel(\"Latitude\")\n",
    "plt.ylabel(\"Wind Speed (mph)\")\n",
    "\n",
    "# Correlation\n",
    "correlation = st.pearsonr(x, y)\n",
    "print(f\"The r-value is {round(correlation[0],2)}\")\n",
    "\n",
    "# Regression line\n",
    "(slope, intercept, rvalue, pvalue, stderr) = linregress(x, y)\n",
    "regress_values = x * slope + intercept\n",
    "line_eq = \"y = \" + str(round(slope,2)) + \"x + \" + str(round(intercept,2))\n",
    "# Add equation\n",
    "plt.annotate(line_eq,(0,-10),fontsize=15,color=\"red\")\n",
    "\n",
    "# Plot\n",
    "plt.plot(x,regress_values,\"r-\")\n",
    "plt.scatter(x,y, edgecolors='black')"
   ]
  },
  {
   "cell_type": "markdown",
   "metadata": {},
   "source": [
    "####  Southern Hemisphere - Wind Speed (mph) vs. Latitude Linear Regression"
   ]
  },
  {
   "cell_type": "code",
   "execution_count": 123,
   "metadata": {},
   "outputs": [
    {
     "name": "stdout",
     "output_type": "stream",
     "text": [
      "The r-value is -0.32\n"
     ]
    },
    {
     "data": {
      "text/plain": [
       "<matplotlib.collections.PathCollection at 0x2857e4efdc0>"
      ]
     },
     "execution_count": 123,
     "metadata": {},
     "output_type": "execute_result"
    },
    {
     "data": {
      "image/png": "[encoded data removed]",
      "text/plain": [
       "<Figure size 432x288 with 1 Axes>"
      ]
     },
     "metadata": {
      "needs_background": "light"
     },
     "output_type": "display_data"
    }
   ],
   "source": [
    "a = south_df['Lat']\n",
    "b = south_df['Wind Speed']\n",
    "\n",
    "plt.title(\"Southern Hemisphere Wind Speed vs. Latitude \" + today)\n",
    "# plt.grid(b=True, which='major', color='#666666', linestyle='-')\n",
    "plt.xlabel(\"Latitude\")\n",
    "plt.ylabel(\"Wind Speed (mph)\")\n",
    "\n",
    "# Correlation\n",
    "correlation = st.pearsonr(a, b)\n",
    "print(f\"The r-value is {round(correlation[0],2)}\")\n",
    "\n",
    "# Regression line\n",
    "(slope, intercept, rvalue, pvalue, stderr) = linregress(a, b)\n",
    "regress_values = a * slope + intercept\n",
    "line_eq = \"y = \" + str(round(slope,2)) + \"x + \" + str(round(intercept,2))\n",
    "# Add equation\n",
    "plt.annotate(line_eq,(0,-10),fontsize=15,color=\"red\")\n",
    "\n",
    "# Plot\n",
    "plt.plot(a,regress_values,\"r-\")\n",
    "plt.scatter(a,b, edgecolors='black')"
   ]
  }
 ],
 "metadata": {
  "anaconda-cloud": {},
  "kernel_info": {
   "name": "python3"
  },
  "kernelspec": {
   "display_name": "Python 3",
   "language": "python",
   "name": "python3"
  },
  "language_info": {
   "codemirror_mode": {
    "name": "ipython",
    "version": 3
   },
   "file_extension": ".py",
   "mimetype": "text/x-python",
   "name": "python",
   "nbconvert_exporter": "python",
   "pygments_lexer": "ipython3",
   "version": "3.8.3"
  },
  "latex_envs": {
   "LaTeX_envs_menu_present": true,
   "autoclose": false,
   "autocomplete": true,
   "bibliofile": "biblio.bib",
   "cite_by": "apalike",
   "current_citInitial": 1,
   "eqLabelWithNumbers": true,
   "eqNumInitial": 1,
   "hotkeys": {
    "equation": "Ctrl-E",
    "itemize": "Ctrl-I"
   },
   "labels_anchors": false,
   "latex_user_defs": false,
   "report_style_numbering": false,
   "user_envs_cfg": false
  },
  "nteract": {
   "version": "0.12.3"
  }
 },
 "nbformat": 4,
 "nbformat_minor": 2
}
